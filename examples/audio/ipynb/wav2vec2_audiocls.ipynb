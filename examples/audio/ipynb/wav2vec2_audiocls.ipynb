{
  "cells": [
    {
      "cell_type": "markdown",
      "metadata": {
        "id": "T7u8hYFgkyai"
      },
      "source": [
        "# Audio Classification with Hugging Face Transformers\n",
        "\n",
        "**Author:** Sreyan Ghosh<br>\n",
        "**Date created:** 2022/07/01<br>\n",
        "**Last modified:** 2022/08/27<br>\n",
        "**Description:** Training Wav2Vec 2.0 using Hugging Face Transformers for Audio Classification."
      ]
    },
    {
      "cell_type": "markdown",
      "metadata": {
        "id": "0LMhupewkyak"
      },
      "source": [
        "## Introduction\n",
        "\n",
        "Identification of speech commands, also known as *keyword spotting* (KWS),\n",
        "is important from an engineering perspective for a wide range of applications,\n",
        "from indexing audio databases and indexing keywords, to running speech models locally\n",
        "on microcontrollers. Currently, many human-computer interfaces (HCI) like Google\n",
        "Assistant, Microsoft Cortana, Amazon Alexa, Apple Siri and others rely on keyword\n",
        "spotting. There is a significant amount of research in the field by all major companies,\n",
        "notably Google and Baidu.\n",
        "\n",
        "In the past decade, deep learning has led to significant performance\n",
        "gains on this task. Though low-level audio features extracted from raw audio like MFCC or\n",
        "mel-filterbanks have been used for decades, the design of these low-level features\n",
        "are [flawed by biases](https://arxiv.org/abs/2101.08596). Moreover, deep learning models\n",
        "trained on these low-level features can easily overfit to noise or signals irrelevant to the\n",
        "task.  This makes it is essential for any system to learn speech representations that make\n",
        "high-level information, such as acoustic and linguistic content, including phonemes,\n",
        "words, semantic meanings, tone, speaker characteristics from speech signals available to\n",
        "solve the downstream task. [Wav2Vec 2.0](https://arxiv.org/abs/2006.11477), which solves a\n",
        "self-supervised contrastive learning task to learn high-level speech representations,\n",
        "provides a great alternative to traditional low-level features for training deep learning\n",
        "models for KWS.\n",
        "\n",
        "In this notebook, we train the Wav2Vec 2.0 (base) model, built on the\n",
        "Hugging Face Transformers library, in an end-to-end fashion on the keyword spotting task and\n",
        "achieve state-of-the-art results on the Google Speech Commands Dataset."
      ]
    },
    {
      "cell_type": "markdown",
      "metadata": {
        "id": "0w006f3Mkyak"
      },
      "source": [
        "## Setup"
      ]
    },
    {
      "cell_type": "markdown",
      "metadata": {
        "id": "S8CMkWSYkyal"
      },
      "source": [
        "### Installing the requirements"
      ]
    },
    {
      "cell_type": "code",
      "execution_count": 2,
      "metadata": {
        "colab": {
          "base_uri": "https://localhost:8080/"
        },
        "id": "i6gLBuz_kyal",
        "outputId": "efa92842-1c6d-4f95-aa21-9227cba97cce"
      },
      "outputs": [
        {
          "output_type": "stream",
          "name": "stdout",
          "text": [
            "Collecting git+https://github.com/huggingface/transformers.git\n",
            "  Cloning https://github.com/huggingface/transformers.git to /tmp/pip-req-build-yrstvb4l\n",
            "  Running command git clone --filter=blob:none --quiet https://github.com/huggingface/transformers.git /tmp/pip-req-build-yrstvb4l\n",
            "  Resolved https://github.com/huggingface/transformers.git to commit 953196a43dae6a3c474165fba7d215fcbc7b7730\n",
            "  Installing build dependencies ... \u001b[?25l\u001b[?25hdone\n",
            "  Getting requirements to build wheel ... \u001b[?25l\u001b[?25hdone\n",
            "  Preparing metadata (pyproject.toml) ... \u001b[?25l\u001b[?25hdone\n",
            "Requirement already satisfied: filelock in /usr/local/lib/python3.11/dist-packages (from transformers==4.52.0.dev0) (3.18.0)\n",
            "Requirement already satisfied: huggingface-hub<1.0,>=0.30.0 in /usr/local/lib/python3.11/dist-packages (from transformers==4.52.0.dev0) (0.30.1)\n",
            "Requirement already satisfied: numpy>=1.17 in /usr/local/lib/python3.11/dist-packages (from transformers==4.52.0.dev0) (2.0.2)\n",
            "Requirement already satisfied: packaging>=20.0 in /usr/local/lib/python3.11/dist-packages (from transformers==4.52.0.dev0) (24.2)\n",
            "Requirement already satisfied: pyyaml>=5.1 in /usr/local/lib/python3.11/dist-packages (from transformers==4.52.0.dev0) (6.0.2)\n",
            "Requirement already satisfied: regex!=2019.12.17 in /usr/local/lib/python3.11/dist-packages (from transformers==4.52.0.dev0) (2024.11.6)\n",
            "Requirement already satisfied: requests in /usr/local/lib/python3.11/dist-packages (from transformers==4.52.0.dev0) (2.32.3)\n",
            "Requirement already satisfied: tokenizers<0.22,>=0.21 in /usr/local/lib/python3.11/dist-packages (from transformers==4.52.0.dev0) (0.21.1)\n",
            "Requirement already satisfied: safetensors>=0.4.3 in /usr/local/lib/python3.11/dist-packages (from transformers==4.52.0.dev0) (0.5.3)\n",
            "Requirement already satisfied: tqdm>=4.27 in /usr/local/lib/python3.11/dist-packages (from transformers==4.52.0.dev0) (4.67.1)\n",
            "Requirement already satisfied: fsspec>=2023.5.0 in /usr/local/lib/python3.11/dist-packages (from huggingface-hub<1.0,>=0.30.0->transformers==4.52.0.dev0) (2025.3.2)\n",
            "Requirement already satisfied: typing-extensions>=3.7.4.3 in /usr/local/lib/python3.11/dist-packages (from huggingface-hub<1.0,>=0.30.0->transformers==4.52.0.dev0) (4.13.1)\n",
            "Requirement already satisfied: charset-normalizer<4,>=2 in /usr/local/lib/python3.11/dist-packages (from requests->transformers==4.52.0.dev0) (3.4.1)\n",
            "Requirement already satisfied: idna<4,>=2.5 in /usr/local/lib/python3.11/dist-packages (from requests->transformers==4.52.0.dev0) (3.10)\n",
            "Requirement already satisfied: urllib3<3,>=1.21.1 in /usr/local/lib/python3.11/dist-packages (from requests->transformers==4.52.0.dev0) (2.3.0)\n",
            "Requirement already satisfied: certifi>=2017.4.17 in /usr/local/lib/python3.11/dist-packages (from requests->transformers==4.52.0.dev0) (2025.1.31)\n",
            "Building wheels for collected packages: transformers\n",
            "  Building wheel for transformers (pyproject.toml) ... \u001b[?25l\u001b[?25hdone\n",
            "  Created wheel for transformers: filename=transformers-4.52.0.dev0-py3-none-any.whl size=11132583 sha256=a533b904a0fdfe958d425e46ff4654f16c0f8d2f3d9340986c43aaaa755ef31f\n",
            "  Stored in directory: /tmp/pip-ephem-wheel-cache-a8bh19ym/wheels/32/4b/78/f195c684dd3a9ed21f3b39fe8f85b48df7918581b6437be143\n",
            "Successfully built transformers\n",
            "Installing collected packages: transformers\n",
            "  Attempting uninstall: transformers\n",
            "    Found existing installation: transformers 4.50.3\n",
            "    Uninstalling transformers-4.50.3:\n",
            "      Successfully uninstalled transformers-4.50.3\n",
            "Successfully installed transformers-4.52.0.dev0\n",
            "Collecting datasets\n",
            "  Downloading datasets-3.5.0-py3-none-any.whl.metadata (19 kB)\n",
            "Requirement already satisfied: filelock in /usr/local/lib/python3.11/dist-packages (from datasets) (3.18.0)\n",
            "Requirement already satisfied: numpy>=1.17 in /usr/local/lib/python3.11/dist-packages (from datasets) (2.0.2)\n",
            "Requirement already satisfied: pyarrow>=15.0.0 in /usr/local/lib/python3.11/dist-packages (from datasets) (18.1.0)\n",
            "Collecting dill<0.3.9,>=0.3.0 (from datasets)\n",
            "  Downloading dill-0.3.8-py3-none-any.whl.metadata (10 kB)\n",
            "Requirement already satisfied: pandas in /usr/local/lib/python3.11/dist-packages (from datasets) (2.2.2)\n",
            "Requirement already satisfied: requests>=2.32.2 in /usr/local/lib/python3.11/dist-packages (from datasets) (2.32.3)\n",
            "Requirement already satisfied: tqdm>=4.66.3 in /usr/local/lib/python3.11/dist-packages (from datasets) (4.67.1)\n",
            "Collecting xxhash (from datasets)\n",
            "  Downloading xxhash-3.5.0-cp311-cp311-manylinux_2_17_x86_64.manylinux2014_x86_64.whl.metadata (12 kB)\n",
            "Collecting multiprocess<0.70.17 (from datasets)\n",
            "  Downloading multiprocess-0.70.16-py311-none-any.whl.metadata (7.2 kB)\n",
            "Collecting fsspec<=2024.12.0,>=2023.1.0 (from fsspec[http]<=2024.12.0,>=2023.1.0->datasets)\n",
            "  Downloading fsspec-2024.12.0-py3-none-any.whl.metadata (11 kB)\n",
            "Requirement already satisfied: aiohttp in /usr/local/lib/python3.11/dist-packages (from datasets) (3.11.15)\n",
            "Requirement already satisfied: huggingface-hub>=0.24.0 in /usr/local/lib/python3.11/dist-packages (from datasets) (0.30.1)\n",
            "Requirement already satisfied: packaging in /usr/local/lib/python3.11/dist-packages (from datasets) (24.2)\n",
            "Requirement already satisfied: pyyaml>=5.1 in /usr/local/lib/python3.11/dist-packages (from datasets) (6.0.2)\n",
            "Requirement already satisfied: aiohappyeyeballs>=2.3.0 in /usr/local/lib/python3.11/dist-packages (from aiohttp->datasets) (2.6.1)\n",
            "Requirement already satisfied: aiosignal>=1.1.2 in /usr/local/lib/python3.11/dist-packages (from aiohttp->datasets) (1.3.2)\n",
            "Requirement already satisfied: attrs>=17.3.0 in /usr/local/lib/python3.11/dist-packages (from aiohttp->datasets) (25.3.0)\n",
            "Requirement already satisfied: frozenlist>=1.1.1 in /usr/local/lib/python3.11/dist-packages (from aiohttp->datasets) (1.5.0)\n",
            "Requirement already satisfied: multidict<7.0,>=4.5 in /usr/local/lib/python3.11/dist-packages (from aiohttp->datasets) (6.3.2)\n",
            "Requirement already satisfied: propcache>=0.2.0 in /usr/local/lib/python3.11/dist-packages (from aiohttp->datasets) (0.3.1)\n",
            "Requirement already satisfied: yarl<2.0,>=1.17.0 in /usr/local/lib/python3.11/dist-packages (from aiohttp->datasets) (1.18.3)\n",
            "Requirement already satisfied: typing-extensions>=3.7.4.3 in /usr/local/lib/python3.11/dist-packages (from huggingface-hub>=0.24.0->datasets) (4.13.1)\n",
            "Requirement already satisfied: charset-normalizer<4,>=2 in /usr/local/lib/python3.11/dist-packages (from requests>=2.32.2->datasets) (3.4.1)\n",
            "Requirement already satisfied: idna<4,>=2.5 in /usr/local/lib/python3.11/dist-packages (from requests>=2.32.2->datasets) (3.10)\n",
            "Requirement already satisfied: urllib3<3,>=1.21.1 in /usr/local/lib/python3.11/dist-packages (from requests>=2.32.2->datasets) (2.3.0)\n",
            "Requirement already satisfied: certifi>=2017.4.17 in /usr/local/lib/python3.11/dist-packages (from requests>=2.32.2->datasets) (2025.1.31)\n",
            "Requirement already satisfied: python-dateutil>=2.8.2 in /usr/local/lib/python3.11/dist-packages (from pandas->datasets) (2.8.2)\n",
            "Requirement already satisfied: pytz>=2020.1 in /usr/local/lib/python3.11/dist-packages (from pandas->datasets) (2025.2)\n",
            "Requirement already satisfied: tzdata>=2022.7 in /usr/local/lib/python3.11/dist-packages (from pandas->datasets) (2025.2)\n",
            "Requirement already satisfied: six>=1.5 in /usr/local/lib/python3.11/dist-packages (from python-dateutil>=2.8.2->pandas->datasets) (1.17.0)\n",
            "Downloading datasets-3.5.0-py3-none-any.whl (491 kB)\n",
            "\u001b[2K   \u001b[90m━━━━━━━━━━━━━━━━━━━━━━━━━━━━━━━━━━━━━━━━\u001b[0m \u001b[32m491.2/491.2 kB\u001b[0m \u001b[31m27.9 MB/s\u001b[0m eta \u001b[36m0:00:00\u001b[0m\n",
            "\u001b[?25hDownloading dill-0.3.8-py3-none-any.whl (116 kB)\n",
            "\u001b[2K   \u001b[90m━━━━━━━━━━━━━━━━━━━━━━━━━━━━━━━━━━━━━━━━\u001b[0m \u001b[32m116.3/116.3 kB\u001b[0m \u001b[31m11.4 MB/s\u001b[0m eta \u001b[36m0:00:00\u001b[0m\n",
            "\u001b[?25hDownloading fsspec-2024.12.0-py3-none-any.whl (183 kB)\n",
            "\u001b[2K   \u001b[90m━━━━━━━━━━━━━━━━━━━━━━━━━━━━━━━━━━━━━━━━\u001b[0m \u001b[32m183.9/183.9 kB\u001b[0m \u001b[31m17.3 MB/s\u001b[0m eta \u001b[36m0:00:00\u001b[0m\n",
            "\u001b[?25hDownloading multiprocess-0.70.16-py311-none-any.whl (143 kB)\n",
            "\u001b[2K   \u001b[90m━━━━━━━━━━━━━━━━━━━━━━━━━━━━━━━━━━━━━━━━\u001b[0m \u001b[32m143.5/143.5 kB\u001b[0m \u001b[31m13.2 MB/s\u001b[0m eta \u001b[36m0:00:00\u001b[0m\n",
            "\u001b[?25hDownloading xxhash-3.5.0-cp311-cp311-manylinux_2_17_x86_64.manylinux2014_x86_64.whl (194 kB)\n",
            "\u001b[2K   \u001b[90m━━━━━━━━━━━━━━━━━━━━━━━━━━━━━━━━━━━━━━━━\u001b[0m \u001b[32m194.8/194.8 kB\u001b[0m \u001b[31m13.7 MB/s\u001b[0m eta \u001b[36m0:00:00\u001b[0m\n",
            "\u001b[?25hInstalling collected packages: xxhash, fsspec, dill, multiprocess, datasets\n",
            "  Attempting uninstall: fsspec\n",
            "    Found existing installation: fsspec 2025.3.2\n",
            "    Uninstalling fsspec-2025.3.2:\n",
            "      Successfully uninstalled fsspec-2025.3.2\n",
            "\u001b[31mERROR: pip's dependency resolver does not currently take into account all the packages that are installed. This behaviour is the source of the following dependency conflicts.\n",
            "torch 2.6.0+cu124 requires nvidia-cublas-cu12==12.4.5.8; platform_system == \"Linux\" and platform_machine == \"x86_64\", but you have nvidia-cublas-cu12 12.5.3.2 which is incompatible.\n",
            "torch 2.6.0+cu124 requires nvidia-cuda-cupti-cu12==12.4.127; platform_system == \"Linux\" and platform_machine == \"x86_64\", but you have nvidia-cuda-cupti-cu12 12.5.82 which is incompatible.\n",
            "torch 2.6.0+cu124 requires nvidia-cuda-nvrtc-cu12==12.4.127; platform_system == \"Linux\" and platform_machine == \"x86_64\", but you have nvidia-cuda-nvrtc-cu12 12.5.82 which is incompatible.\n",
            "torch 2.6.0+cu124 requires nvidia-cuda-runtime-cu12==12.4.127; platform_system == \"Linux\" and platform_machine == \"x86_64\", but you have nvidia-cuda-runtime-cu12 12.5.82 which is incompatible.\n",
            "torch 2.6.0+cu124 requires nvidia-cudnn-cu12==9.1.0.70; platform_system == \"Linux\" and platform_machine == \"x86_64\", but you have nvidia-cudnn-cu12 9.3.0.75 which is incompatible.\n",
            "torch 2.6.0+cu124 requires nvidia-cufft-cu12==11.2.1.3; platform_system == \"Linux\" and platform_machine == \"x86_64\", but you have nvidia-cufft-cu12 11.2.3.61 which is incompatible.\n",
            "torch 2.6.0+cu124 requires nvidia-curand-cu12==10.3.5.147; platform_system == \"Linux\" and platform_machine == \"x86_64\", but you have nvidia-curand-cu12 10.3.6.82 which is incompatible.\n",
            "torch 2.6.0+cu124 requires nvidia-cusolver-cu12==11.6.1.9; platform_system == \"Linux\" and platform_machine == \"x86_64\", but you have nvidia-cusolver-cu12 11.6.3.83 which is incompatible.\n",
            "torch 2.6.0+cu124 requires nvidia-cusparse-cu12==12.3.1.170; platform_system == \"Linux\" and platform_machine == \"x86_64\", but you have nvidia-cusparse-cu12 12.5.1.3 which is incompatible.\n",
            "torch 2.6.0+cu124 requires nvidia-nvjitlink-cu12==12.4.127; platform_system == \"Linux\" and platform_machine == \"x86_64\", but you have nvidia-nvjitlink-cu12 12.5.82 which is incompatible.\n",
            "gcsfs 2025.3.2 requires fsspec==2025.3.2, but you have fsspec 2024.12.0 which is incompatible.\u001b[0m\u001b[31m\n",
            "\u001b[0mSuccessfully installed datasets-3.5.0 dill-0.3.8 fsspec-2024.12.0 multiprocess-0.70.16 xxhash-3.5.0\n",
            "Requirement already satisfied: huggingface-hub in /usr/local/lib/python3.11/dist-packages (0.30.1)\n",
            "Requirement already satisfied: filelock in /usr/local/lib/python3.11/dist-packages (from huggingface-hub) (3.18.0)\n",
            "Requirement already satisfied: fsspec>=2023.5.0 in /usr/local/lib/python3.11/dist-packages (from huggingface-hub) (2024.12.0)\n",
            "Requirement already satisfied: packaging>=20.9 in /usr/local/lib/python3.11/dist-packages (from huggingface-hub) (24.2)\n",
            "Requirement already satisfied: pyyaml>=5.1 in /usr/local/lib/python3.11/dist-packages (from huggingface-hub) (6.0.2)\n",
            "Requirement already satisfied: requests in /usr/local/lib/python3.11/dist-packages (from huggingface-hub) (2.32.3)\n",
            "Requirement already satisfied: tqdm>=4.42.1 in /usr/local/lib/python3.11/dist-packages (from huggingface-hub) (4.67.1)\n",
            "Requirement already satisfied: typing-extensions>=3.7.4.3 in /usr/local/lib/python3.11/dist-packages (from huggingface-hub) (4.13.1)\n",
            "Requirement already satisfied: charset-normalizer<4,>=2 in /usr/local/lib/python3.11/dist-packages (from requests->huggingface-hub) (3.4.1)\n",
            "Requirement already satisfied: idna<4,>=2.5 in /usr/local/lib/python3.11/dist-packages (from requests->huggingface-hub) (3.10)\n",
            "Requirement already satisfied: urllib3<3,>=1.21.1 in /usr/local/lib/python3.11/dist-packages (from requests->huggingface-hub) (2.3.0)\n",
            "Requirement already satisfied: certifi>=2017.4.17 in /usr/local/lib/python3.11/dist-packages (from requests->huggingface-hub) (2025.1.31)\n",
            "Requirement already satisfied: joblib in /usr/local/lib/python3.11/dist-packages (1.4.2)\n",
            "Requirement already satisfied: librosa in /usr/local/lib/python3.11/dist-packages (0.11.0)\n",
            "Requirement already satisfied: audioread>=2.1.9 in /usr/local/lib/python3.11/dist-packages (from librosa) (3.0.1)\n",
            "Requirement already satisfied: numba>=0.51.0 in /usr/local/lib/python3.11/dist-packages (from librosa) (0.60.0)\n",
            "Requirement already satisfied: numpy>=1.22.3 in /usr/local/lib/python3.11/dist-packages (from librosa) (2.0.2)\n",
            "Requirement already satisfied: scipy>=1.6.0 in /usr/local/lib/python3.11/dist-packages (from librosa) (1.14.1)\n",
            "Requirement already satisfied: scikit-learn>=1.1.0 in /usr/local/lib/python3.11/dist-packages (from librosa) (1.6.1)\n",
            "Requirement already satisfied: joblib>=1.0 in /usr/local/lib/python3.11/dist-packages (from librosa) (1.4.2)\n",
            "Requirement already satisfied: decorator>=4.3.0 in /usr/local/lib/python3.11/dist-packages (from librosa) (4.4.2)\n",
            "Requirement already satisfied: soundfile>=0.12.1 in /usr/local/lib/python3.11/dist-packages (from librosa) (0.13.1)\n",
            "Requirement already satisfied: pooch>=1.1 in /usr/local/lib/python3.11/dist-packages (from librosa) (1.8.2)\n",
            "Requirement already satisfied: soxr>=0.3.2 in /usr/local/lib/python3.11/dist-packages (from librosa) (0.5.0.post1)\n",
            "Requirement already satisfied: typing_extensions>=4.1.1 in /usr/local/lib/python3.11/dist-packages (from librosa) (4.13.1)\n",
            "Requirement already satisfied: lazy_loader>=0.1 in /usr/local/lib/python3.11/dist-packages (from librosa) (0.4)\n",
            "Requirement already satisfied: msgpack>=1.0 in /usr/local/lib/python3.11/dist-packages (from librosa) (1.1.0)\n",
            "Requirement already satisfied: packaging in /usr/local/lib/python3.11/dist-packages (from lazy_loader>=0.1->librosa) (24.2)\n",
            "Requirement already satisfied: llvmlite<0.44,>=0.43.0dev0 in /usr/local/lib/python3.11/dist-packages (from numba>=0.51.0->librosa) (0.43.0)\n",
            "Requirement already satisfied: platformdirs>=2.5.0 in /usr/local/lib/python3.11/dist-packages (from pooch>=1.1->librosa) (4.3.7)\n",
            "Requirement already satisfied: requests>=2.19.0 in /usr/local/lib/python3.11/dist-packages (from pooch>=1.1->librosa) (2.32.3)\n",
            "Requirement already satisfied: threadpoolctl>=3.1.0 in /usr/local/lib/python3.11/dist-packages (from scikit-learn>=1.1.0->librosa) (3.6.0)\n",
            "Requirement already satisfied: cffi>=1.0 in /usr/local/lib/python3.11/dist-packages (from soundfile>=0.12.1->librosa) (1.17.1)\n",
            "Requirement already satisfied: pycparser in /usr/local/lib/python3.11/dist-packages (from cffi>=1.0->soundfile>=0.12.1->librosa) (2.22)\n",
            "Requirement already satisfied: charset-normalizer<4,>=2 in /usr/local/lib/python3.11/dist-packages (from requests>=2.19.0->pooch>=1.1->librosa) (3.4.1)\n",
            "Requirement already satisfied: idna<4,>=2.5 in /usr/local/lib/python3.11/dist-packages (from requests>=2.19.0->pooch>=1.1->librosa) (3.10)\n",
            "Requirement already satisfied: urllib3<3,>=1.21.1 in /usr/local/lib/python3.11/dist-packages (from requests>=2.19.0->pooch>=1.1->librosa) (2.3.0)\n",
            "Requirement already satisfied: certifi>=2017.4.17 in /usr/local/lib/python3.11/dist-packages (from requests>=2.19.0->pooch>=1.1->librosa) (2025.1.31)\n"
          ]
        }
      ],
      "source": [
        "!pip install git+https://github.com/huggingface/transformers.git\n",
        "!pip install datasets\n",
        "!pip install huggingface-hub\n",
        "!pip install joblib\n",
        "!pip install librosa\n"
      ]
    },
    {
      "cell_type": "markdown",
      "metadata": {
        "id": "isPMy7rWkyam"
      },
      "source": [
        "### Importing the necessary libraries"
      ]
    },
    {
      "cell_type": "code",
      "execution_count": null,
      "metadata": {
        "id": "0uv9SsaFkyam"
      },
      "outputs": [],
      "source": [
        "import random\n",
        "import logging\n",
        "\n",
        "import numpy as np\n",
        "import tensorflow as tf\n",
        "from tensorflow import keras\n",
        "from tensorflow.keras import layers\n",
        "\n",
        "# Only log error messages\n",
        "tf.get_logger().setLevel(logging.ERROR)\n",
        "# Set random seed\n",
        "tf.keras.utils.set_random_seed(42)"
      ]
    },
    {
      "cell_type": "markdown",
      "metadata": {
        "id": "kAROKM1Okyam"
      },
      "source": [
        "### Define certain variables"
      ]
    },
    {
      "cell_type": "code",
      "execution_count": null,
      "metadata": {
        "id": "DDslyqfdkyan"
      },
      "outputs": [],
      "source": [
        "# Maximum duration of the input audio file we feed to our Wav2Vec 2.0 model.\n",
        "MAX_DURATION = 1\n",
        "# Sampling rate is the number of samples of audio recorded every second\n",
        "SAMPLING_RATE = 16000\n",
        "BATCH_SIZE = 32  # Batch-size for training and evaluating our model.\n",
        "NUM_CLASSES = 10  # Number of classes our dataset will have (11 in our case).\n",
        "HIDDEN_DIM = 768  # Dimension of our model output (768 in case of Wav2Vec 2.0 - Base).\n",
        "MAX_SEQ_LENGTH = MAX_DURATION * SAMPLING_RATE  # Maximum length of the input audio file.\n",
        "# Wav2Vec 2.0 results in an output frequency with a stride of about 20ms.\n",
        "MAX_FRAMES = 49\n",
        "MAX_EPOCHS = 2  # Maximum number of training epochs.\n",
        "\n",
        "MODEL_CHECKPOINT = \"facebook/wav2vec2-base\"  # Name of pretrained model from Hugging Face Model Hub"
      ]
    },
    {
      "cell_type": "markdown",
      "metadata": {
        "id": "vKkDn4eukyan"
      },
      "source": [
        "## Load the Google Speech Commands Dataset"
      ]
    },
    {
      "cell_type": "markdown",
      "metadata": {
        "id": "_-oe0S_Hkyan"
      },
      "source": [
        "We now download the [Google Speech Commands V1 Dataset](https://arxiv.org/abs/1804.03209),\n",
        "a popular benchmark for training and evaluating deep learning models built for solving the KWS task.\n",
        "The dataset consists of a total of 60,973 audio files, each of 1 second duration,\n",
        "divided into ten classes of keywords (\"Yes\", \"No\", \"Up\", \"Down\", \"Left\", \"Right\", \"On\",\n",
        "\"Off\", \"Stop\", and \"Go\"), a class for silence, and an unknown class to include the false\n",
        "positive. We load the dataset from [Hugging Face Datasets](https://github.com/huggingface/datasets).\n",
        "This can be easily done with the `load_dataset` function."
      ]
    },
    {
      "cell_type": "code",
      "execution_count": null,
      "metadata": {
        "id": "bxaP6tFTkyan"
      },
      "outputs": [],
      "source": [
        "from datasets import load_dataset\n",
        "\n",
        "speech_commands_v1 = load_dataset(\"superb\", \"ks\")"
      ]
    },
    {
      "cell_type": "markdown",
      "metadata": {
        "id": "sZofCVnIkyan"
      },
      "source": [
        "The dataset has the following fields:\n",
        "\n",
        "- **file**: the path to the raw .wav file of the audio\n",
        "- **audio**: the audio file sampled at 16kHz\n",
        "- **label**: label ID of the audio utterance"
      ]
    },
    {
      "cell_type": "code",
      "execution_count": null,
      "metadata": {
        "id": "atJzhiFCkyan"
      },
      "outputs": [],
      "source": [
        "print(speech_commands_v1)"
      ]
    },
    {
      "cell_type": "markdown",
      "metadata": {
        "id": "B34P-vqOkyao"
      },
      "source": [
        "## Data Pre-processing"
      ]
    },
    {
      "cell_type": "markdown",
      "metadata": {
        "id": "-6Q3nmGgkyao"
      },
      "source": [
        "For the sake of demonstrating the workflow, in this notebook we only take\n",
        "small stratified balanced splits (50%) of the train as our training and test sets.\n",
        "We can easily split the dataset using the `train_test_split` method which expects\n",
        "the split size and the name of the column relative to which you want to stratify.\n",
        "\n",
        "Post splitting the dataset, we remove the `unknown` and `silence` classes and only\n",
        "focus on the ten main classes. The `filter` method does that easily for you.\n",
        "\n",
        "Next we sample our train and test splits to a multiple of the `BATCH_SIZE` to\n",
        "facilitate smooth training and inference. You can achieve that using the `select`\n",
        "method which expects the indices of the samples you want to keep. Rest all are\n",
        "discarded."
      ]
    },
    {
      "cell_type": "code",
      "execution_count": null,
      "metadata": {
        "id": "qw7ae32Ukyao"
      },
      "outputs": [],
      "source": [
        "speech_commands_v1 = speech_commands_v1[\"train\"].train_test_split(\n",
        "    train_size=0.5, test_size=0.5, stratify_by_column=\"label\"\n",
        ")\n",
        "\n",
        "speech_commands_v1 = speech_commands_v1.filter(\n",
        "    lambda x: x[\"label\"]\n",
        "    != (\n",
        "        speech_commands_v1[\"train\"].features[\"label\"].names.index(\"_unknown_\")\n",
        "        and speech_commands_v1[\"train\"].features[\"label\"].names.index(\"_silence_\")\n",
        "    )\n",
        ")\n",
        "\n",
        "speech_commands_v1[\"train\"] = speech_commands_v1[\"train\"].select(\n",
        "    [i for i in range((len(speech_commands_v1[\"train\"]) // BATCH_SIZE) * BATCH_SIZE)]\n",
        ")\n",
        "speech_commands_v1[\"test\"] = speech_commands_v1[\"test\"].select(\n",
        "    [i for i in range((len(speech_commands_v1[\"test\"]) // BATCH_SIZE) * BATCH_SIZE)]\n",
        ")\n",
        "\n",
        "print(speech_commands_v1)"
      ]
    },
    {
      "cell_type": "markdown",
      "metadata": {
        "id": "amS-sjrBkyao"
      },
      "source": [
        "Additionally, you can check the actual labels corresponding to each label ID."
      ]
    },
    {
      "cell_type": "code",
      "execution_count": null,
      "metadata": {
        "id": "4CXEvVrLkyao"
      },
      "outputs": [],
      "source": [
        "labels = speech_commands_v1[\"train\"].features[\"label\"].names\n",
        "label2id, id2label = dict(), dict()\n",
        "for i, label in enumerate(labels):\n",
        "    label2id[label] = str(i)\n",
        "    id2label[str(i)] = label\n",
        "\n",
        "print(id2label)"
      ]
    },
    {
      "cell_type": "markdown",
      "metadata": {
        "id": "zY8yYU-dkyao"
      },
      "source": [
        "Before we can feed the audio utterance samples to our model, we need to\n",
        "pre-process them. This is done by a Hugging Face Transformers \"Feature Extractor\"\n",
        "which will (as the name indicates) re-sample your inputs to the sampling rate\n",
        "the model expects (in-case they exist with a different sampling rate), as well\n",
        "as generate the other inputs that model requires.\n",
        "\n",
        "To do all of this, we instantiate our `Feature Extractor` with the\n",
        "`AutoFeatureExtractor.from_pretrained`, which will ensure:\n",
        "\n",
        "We get a `Feature Extractor` that corresponds to the model architecture we want to use.\n",
        "We download the config that was used when pretraining this specific checkpoint.\n",
        "This will be cached so that it's not downloaded again the next time we run the cell.\n",
        "\n",
        "The `from_pretrained()` method expects the name of a model from the Hugging Face Hub. This is\n",
        "exactly similar to `MODEL_CHECKPOINT` and we just pass that.\n",
        "\n",
        "We write a simple function that helps us in the pre-processing that is compatible\n",
        "with Hugging Face Datasets. To summarize, our pre-processing function should:\n",
        "\n",
        "- Call the audio column to load and if necessary resample the audio file.\n",
        "- Check the sampling rate of the audio file matches the sampling rate of the audio data a\n",
        "model was pretrained with. You can find this information on the Wav2Vec 2.0 model card.\n",
        "- Set a maximum input length so longer inputs are batched without being truncated."
      ]
    },
    {
      "cell_type": "code",
      "execution_count": null,
      "metadata": {
        "id": "9m4Cv8Njkyao"
      },
      "outputs": [],
      "source": [
        "from transformers import AutoFeatureExtractor\n",
        "\n",
        "feature_extractor = AutoFeatureExtractor.from_pretrained(\n",
        "    MODEL_CHECKPOINT, return_attention_mask=True\n",
        ")\n",
        "\n",
        "\n",
        "def preprocess_function(examples):\n",
        "    audio_arrays = [x[\"array\"] for x in examples[\"audio\"]]\n",
        "    inputs = feature_extractor(\n",
        "        audio_arrays,\n",
        "        sampling_rate=feature_extractor.sampling_rate,\n",
        "        max_length=MAX_SEQ_LENGTH,\n",
        "        truncation=True,\n",
        "        padding=True,\n",
        "    )\n",
        "    return inputs\n",
        "\n",
        "\n",
        "# This line with pre-process our speech_commands_v1 dataset. We also remove the \"audio\"\n",
        "# and \"file\" columns as they will be of no use to us while training.\n",
        "processed_speech_commands_v1 = speech_commands_v1.map(\n",
        "    preprocess_function, remove_columns=[\"audio\", \"file\"], batched=True\n",
        ")\n",
        "\n",
        "# Load the whole dataset splits as a dict of numpy arrays\n",
        "train = processed_speech_commands_v1[\"train\"].shuffle(seed=42).with_format(\"numpy\")[:]\n",
        "test = processed_speech_commands_v1[\"test\"].shuffle(seed=42).with_format(\"numpy\")[:]"
      ]
    },
    {
      "cell_type": "markdown",
      "metadata": {
        "id": "RVrHkyXBkyao"
      },
      "source": [
        "## Defining the Wav2Vec 2.0 with Classification-Head"
      ]
    },
    {
      "cell_type": "markdown",
      "metadata": {
        "id": "GevGu3xKkyao"
      },
      "source": [
        "We now define our model. To be precise, we define a Wav2Vec 2.0 model and add a\n",
        "Classification-Head on top to output a probability distribution of all classes for each\n",
        "input audio sample. Since the model might get complex we first define the Wav2Vec\n",
        "2.0 model with Classification-Head as a Keras layer and then build the model using that.\n",
        "\n",
        "We instantiate our main Wav2Vec 2.0 model using the `TFWav2Vec2Model` class. This will\n",
        "instantiate a model which will output 768 or 1024 dimensional embeddings according to\n",
        "the config you choose (BASE or LARGE). The `from_pretrained()` additionally helps you\n",
        "load pre-trained weights from the Hugging Face Model Hub. It will download the pre-trained weights\n",
        "together with the config corresponding to the name of the model you have mentioned when\n",
        "calling the method. For our task, we choose the BASE variant of the model that has\n",
        "just been pre-trained, since we fine-tune over it."
      ]
    },
    {
      "cell_type": "code",
      "execution_count": null,
      "metadata": {
        "id": "F2wuP2BXkyap"
      },
      "outputs": [],
      "source": [
        "from transformers import TFWav2Vec2Model\n",
        "\n",
        "\n",
        "def mean_pool(hidden_states, feature_lengths):\n",
        "    attenion_mask = tf.sequence_mask(\n",
        "        feature_lengths, maxlen=MAX_FRAMES, dtype=tf.dtypes.int64\n",
        "    )\n",
        "    padding_mask = tf.cast(\n",
        "        tf.reverse(tf.cumsum(tf.reverse(attenion_mask, [-1]), -1), [-1]),\n",
        "        dtype=tf.dtypes.bool,\n",
        "    )\n",
        "    hidden_states = tf.where(\n",
        "        tf.broadcast_to(\n",
        "            tf.expand_dims(~padding_mask, -1), (BATCH_SIZE, MAX_FRAMES, HIDDEN_DIM)\n",
        "        ),\n",
        "        0.0,\n",
        "        hidden_states,\n",
        "    )\n",
        "    pooled_state = tf.math.reduce_sum(hidden_states, axis=1) / tf.reshape(\n",
        "        tf.math.reduce_sum(tf.cast(padding_mask, dtype=tf.dtypes.float32), axis=1),\n",
        "        [-1, 1],\n",
        "    )\n",
        "    return pooled_state\n",
        "\n",
        "\n",
        "class TFWav2Vec2ForAudioClassification(layers.Layer):\n",
        "    \"\"\"Combines the encoder and decoder into an end-to-end model for training.\"\"\"\n",
        "\n",
        "    def __init__(self, model_checkpoint, num_classes):\n",
        "        super().__init__()\n",
        "        # Instantiate the Wav2Vec 2.0 model without the Classification-Head\n",
        "        self.wav2vec2 = TFWav2Vec2Model.from_pretrained(\n",
        "            model_checkpoint, apply_spec_augment=False, from_pt=True\n",
        "        )\n",
        "        self.pooling = layers.GlobalAveragePooling1D()\n",
        "        # Drop-out layer before the final Classification-Head\n",
        "        self.intermediate_layer_dropout = layers.Dropout(0.5)\n",
        "        # Classification-Head\n",
        "        self.final_layer = layers.Dense(num_classes, activation=\"softmax\")\n",
        "\n",
        "    def call(self, inputs):\n",
        "        # We take only the first output in the returned dictionary corresponding to the\n",
        "        # output of the last layer of Wav2vec 2.0\n",
        "        hidden_states = self.wav2vec2(inputs[\"input_values\"])[0]\n",
        "\n",
        "        # If attention mask does exist then mean-pool only un-masked output frames\n",
        "        if tf.is_tensor(inputs[\"attention_mask\"]):\n",
        "            # Get the length of each audio input by summing up the attention_mask\n",
        "            # (attention_mask = (BATCH_SIZE x MAX_SEQ_LENGTH) ∈ {1,0})\n",
        "            audio_lengths = tf.cumsum(inputs[\"attention_mask\"], -1)[:, -1]\n",
        "            # Get the number of Wav2Vec 2.0 output frames for each corresponding audio input\n",
        "            # length\n",
        "            feature_lengths = self.wav2vec2.wav2vec2._get_feat_extract_output_lengths(\n",
        "                audio_lengths\n",
        "            )\n",
        "            pooled_state = mean_pool(hidden_states, feature_lengths)\n",
        "        # If attention mask does not exist then mean-pool only all output frames\n",
        "        else:\n",
        "            pooled_state = self.pooling(hidden_states)\n",
        "\n",
        "        intermediate_state = self.intermediate_layer_dropout(pooled_state)\n",
        "        final_state = self.final_layer(intermediate_state)\n",
        "\n",
        "        return final_state\n"
      ]
    },
    {
      "cell_type": "markdown",
      "metadata": {
        "id": "XDkgBZo4kyap"
      },
      "source": [
        "## Building and Compiling the model"
      ]
    },
    {
      "cell_type": "markdown",
      "metadata": {
        "id": "n3583r7nkyap"
      },
      "source": [
        "We now build and compile our model. We use the `SparseCategoricalCrossentropy`\n",
        "to train our model since it is a classification task. Following much of literature\n",
        "we evaluate our model on the `accuracy` metric."
      ]
    },
    {
      "cell_type": "code",
      "execution_count": null,
      "metadata": {
        "id": "aKWEBBC9kyap"
      },
      "outputs": [],
      "source": [
        "\n",
        "def build_model():\n",
        "    # Model's input\n",
        "    inputs = {\n",
        "        \"input_values\": tf.keras.Input(shape=(MAX_SEQ_LENGTH,), dtype=\"float32\"),\n",
        "        \"attention_mask\": tf.keras.Input(shape=(MAX_SEQ_LENGTH,), dtype=\"int32\"),\n",
        "    }\n",
        "    # Instantiate the Wav2Vec 2.0 model with Classification-Head using the desired\n",
        "    # pre-trained checkpoint\n",
        "    wav2vec2_model = TFWav2Vec2ForAudioClassification(MODEL_CHECKPOINT, NUM_CLASSES)(\n",
        "        inputs\n",
        "    )\n",
        "    # Model\n",
        "    model = tf.keras.Model(inputs, wav2vec2_model)\n",
        "    # Loss\n",
        "    loss = tf.keras.losses.SparseCategoricalCrossentropy(from_logits=False)\n",
        "    # Optimizer\n",
        "    optimizer = keras.optimizers.Adam(learning_rate=1e-5)\n",
        "    # Compile and return\n",
        "    model.compile(loss=loss, optimizer=optimizer, metrics=[\"accuracy\"])\n",
        "    return model\n",
        "\n",
        "\n",
        "model = build_model()"
      ]
    },
    {
      "cell_type": "markdown",
      "metadata": {
        "id": "3mTEYYWpkyap"
      },
      "source": [
        "## Training the model\n",
        "\n",
        "Before we start training our model, we divide the inputs into its\n",
        "dependent and independent variables."
      ]
    },
    {
      "cell_type": "code",
      "execution_count": null,
      "metadata": {
        "id": "U35A4AREkyaq"
      },
      "outputs": [],
      "source": [
        "# Remove targets from training dictionaries\n",
        "train_x = {x: y for x, y in train.items() if x != \"label\"}\n",
        "test_x = {x: y for x, y in test.items() if x != \"label\"}"
      ]
    },
    {
      "cell_type": "markdown",
      "metadata": {
        "id": "xdBzXD6Wkyaq"
      },
      "source": [
        "And now we can finally start training our model."
      ]
    },
    {
      "cell_type": "code",
      "execution_count": null,
      "metadata": {
        "id": "BQEUMU_Pkyaq"
      },
      "outputs": [],
      "source": [
        "model.fit(\n",
        "    train_x,\n",
        "    train[\"label\"],\n",
        "    validation_data=(test_x, test[\"label\"]),\n",
        "    batch_size=BATCH_SIZE,\n",
        "    epochs=MAX_EPOCHS,\n",
        ")"
      ]
    },
    {
      "cell_type": "markdown",
      "metadata": {
        "id": "hxmnTCBDkyaq"
      },
      "source": [
        "Great! Now that we have trained our model, we predict the classes\n",
        "for audio samples in the test set using the `model.predict()` method! We see\n",
        "the model predictions are not that great as it has been trained on a very small\n",
        "number of samples for just 1 epoch. For best results, we recommend training on\n",
        "the complete dataset for at least 5 epochs!"
      ]
    },
    {
      "cell_type": "code",
      "execution_count": null,
      "metadata": {
        "id": "kJZ4YqWQkyaq"
      },
      "outputs": [],
      "source": [
        "preds = model.predict(test_x)"
      ]
    },
    {
      "cell_type": "markdown",
      "metadata": {
        "id": "m9mXjemIkyaq"
      },
      "source": [
        "Now we try to infer the model we trained on a randomly sampled audio file.\n",
        "We hear the audio file and then also see how well our model was able to predict!"
      ]
    },
    {
      "cell_type": "code",
      "execution_count": null,
      "metadata": {
        "id": "I2lXmvJokyaq"
      },
      "outputs": [],
      "source": [
        "import IPython.display as ipd\n",
        "\n",
        "rand_int = random.randint(0, len(test_x))\n",
        "\n",
        "ipd.Audio(data=np.asarray(test_x[\"input_values\"][rand_int]), autoplay=True, rate=16000)\n",
        "\n",
        "print(\"Original Label is \", id2label[str(test[\"label\"][rand_int])])\n",
        "print(\"Predicted Label is \", id2label[str(np.argmax((preds[rand_int])))])"
      ]
    },
    {
      "cell_type": "markdown",
      "metadata": {
        "id": "SFrCJ-dBkyaq"
      },
      "source": [
        "Now you can push this model to Hugging Face Model Hub and also share it with all your friends,\n",
        "family, favorite pets: they can all load it with the identifier\n",
        "`\"your-username/the-name-you-picked\"`, for instance:\n",
        "\n",
        "```python\n",
        "model.push_to_hub(\"wav2vec2-ks\", organization=\"keras-io\")\n",
        "tokenizer.push_to_hub(\"wav2vec2-ks\", organization=\"keras-io\")\n",
        "```\n",
        "And after you push your model this is how you can load it in the future!\n",
        "\n",
        "```python\n",
        "from transformers import TFWav2Vec2Model\n",
        "\n",
        "model = TFWav2Vec2Model.from_pretrained(\"your-username/my-awesome-model\", from_pt=True)\n",
        "```"
      ]
    }
  ],
  "metadata": {
    "accelerator": "GPU",
    "colab": {
      "name": "wav2vec2_audiocls",
      "provenance": [],
      "toc_visible": true,
      "gpuType": "T4"
    },
    "kernelspec": {
      "display_name": "Python 3",
      "name": "python3"
    },
    "language_info": {
      "codemirror_mode": {
        "name": "ipython",
        "version": 3
      },
      "file_extension": ".py",
      "mimetype": "text/x-python",
      "name": "python",
      "nbconvert_exporter": "python",
      "pygments_lexer": "ipython3",
      "version": "3.10.4"
    },
    "vscode": {
      "interpreter": {
        "hash": "c95121c4820229e40183c12cf809add4657f5d8cdc20fb3d24f9d7a7ade02504"
      }
    }
  },
  "nbformat": 4,
  "nbformat_minor": 0
}